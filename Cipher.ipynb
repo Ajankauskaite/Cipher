{
 "cells": [
  {
   "cell_type": "code",
   "execution_count": 38,
   "metadata": {},
   "outputs": [
    {
     "name": "stdout",
     "output_type": "stream",
     "text": [
      "Divx\tst\tjooslyasot"
     ]
    }
   ],
   "source": [
    "alphabetUP = {1:\"A\",2:\"B\",3:\"C\",4:\"D\",5:\"E\",6:\"F\",7:\"G\",8:\"H\",9:\"I\",10:\"J\",11:\"K\",12:\"L\",13:\"M\",14:\"N\",15:\"O\",16:\"P\",17:\"Q\",18:\"R\",19:\"S\",20:\"T\",21:\"U\",22:\"V\",23:\"W\",24:\"X\",25:\"Y\",26:\"Z\"}\n",
    "numbersUP = {\"A\":1,\"B\":2,\"C\":3,\"D\":4,\"E\":5,\"F\":6,\"G\":7,\"H\":8,\"I\":9,\"J\":10,\"K\":11,\"L\":12,\"M\":13,\"N\":14,\"O\":15,\"P\":16,\"Q\":17,\"R\":18,\"S\":19,\"T\":20,\"U\":21,\"V\":22,\"W\":23,\"X\":24,\"Y\":25,\"Z\":26}\n",
    "numbersLC = {\"a\":1,\"b\":2,\"c\":3,\"d\":4,\"e\":5,\"f\":6,\"g\":7,\"h\":8,\"i\":9,\"j\":10,\"k\":11,\"l\":12,\"m\":13,\"n\":14,\"o\":15,\"p\":16,\"q\":17, \"r\":18,\"s\":19,\"t\":20,\"u\":21,\"v\":22,\"w\":23,\"x\":24,\"y\":25,\"z\":26}\n",
    "alphabetLC = {1:\"a\", 2:\"b\", 3:\"c\", 4:\"d\", 5:\"e\",6:\"f\",7:\"g\",8:\"h\",9:\"i\",10:\"j\",11:\"k\",12:\"l\",13:\"m\",14:\"n\",15:\"o\",16:\"p\",17:\"q\",18:\"r\",19:\"s\",20:\"t\",21:\"u\",22:\"v\",23:\"w\",24:\"x\",25:\"y\",26:\"z\"}\n",
    "everything = []\n",
    "A = \"This is everything\"\n",
    "B = \"james\"\n",
    "M = len(A)\n",
    "N = len(B)\n",
    "QW = M - N\n",
    "if QW > 0 :\n",
    "    if QW == 1:\n",
    "        B = 2 * B\n",
    "    else:\n",
    "        B = B * QW\n",
    "L = A.upper()\n",
    "K = B.upper()\n",
    "for i in range(M):\n",
    "    if A[i].isupper():\n",
    "        amountOFB = numbersUP[K[i]]\n",
    "        amountOFA = numbersUP[L[i]]\n",
    "        J = amountOFB + amountOFA\n",
    "        if J > 26:\n",
    "            Q = J - 26\n",
    "            Jk = alphabetUP[Q]\n",
    "        else:\n",
    "            Jk = alphabetUP[J]\n",
    "        everything.append(Jk)\n",
    "    elif A[i].islower():\n",
    "        amountOFB = numbersLC[B[i]]\n",
    "        amountOFA = numbersLC[A[i]]\n",
    "        J = amountOFB + amountOFA\n",
    "        if J > 26:\n",
    "            Q = J - 26\n",
    "            Jk = alphabetLC[Q]\n",
    "        else:\n",
    "            Jk = alphabetLC[J]\n",
    "        everything.append(Jk)\n",
    "    elif A[i] == ' ':\n",
    "        everything.append(\"\\t\")\n",
    "A = len(everything) \n",
    "for i in range(0,A):\n",
    "    print(everything[i],end=\"\")"
   ]
  },
  {
   "cell_type": "code",
   "execution_count": 39,
   "metadata": {},
   "outputs": [
    {
     "name": "stdout",
     "output_type": "stream",
     "text": [
      "Divx\tst\tjooslyasot"
     ]
    }
   ],
   "source": [
    "everything = []\n",
    "A = \"This is everything\"\n",
    "B = \"james\"\n",
    "M = len(A)\n",
    "N = len(B)\n",
    "QW = M - N\n",
    "if QW > 0 :\n",
    "    if QW == 1:\n",
    "        B = 2 * B\n",
    "    else:\n",
    "        B = B * QW\n",
    "L = A.upper()\n",
    "K = B.upper()\n",
    "for i in range(M):\n",
    "    if A[i].isupper():\n",
    "        amountOFB = numbersUP[K[i]]\n",
    "        amountOFA = numbersUP[L[i]]\n",
    "        J = amountOFB + amountOFA\n",
    "        if J > 26:\n",
    "            Q = J - 26\n",
    "            Jk = alphabetUP[Q]\n",
    "        else:\n",
    "            Jk = alphabetUP[J]\n",
    "        everything.append(Jk)\n",
    "    elif A[i].islower():\n",
    "        amountOFB = numbersLC[B[i]]\n",
    "        amountOFA = numbersLC[A[i]]\n",
    "        J = amountOFB + amountOFA\n",
    "        if J > 26:\n",
    "            Q = J - 26\n",
    "            Jk = alphabetLC[Q]\n",
    "        else:\n",
    "            Jk = alphabetLC[J]\n",
    "        everything.append(Jk)\n",
    "    elif A[i] == ' ':\n",
    "        everything.append(\"\\t\")\n",
    "A = len(everything) \n",
    "for i in range(0,A):\n",
    "    print(everything[i],end=\"\")\n"
   ]
  },
  {
   "cell_type": "code",
   "execution_count": 89,
   "metadata": {},
   "outputs": [],
   "source": [
    "def cipher(A,B):\n",
    "    from random import randrange\n",
    "    everything = []\n",
    "    A = str(A)\n",
    "    B = str(B)\n",
    "    M = len(A)\n",
    "    N = len(B)\n",
    "    QW = M - N\n",
    "    if QW > 0 :\n",
    "        if QW == 1:\n",
    "            B = 2 * B\n",
    "        else:\n",
    "            B = B * (QW + 1)\n",
    "    for i in range(M):\n",
    "        amountOFB = ord(B[i])\n",
    "        amountOFA = ord(A[i])\n",
    "        J = amountOFB + amountOFA\n",
    "        if J > 126:\n",
    "            J = J - 127\n",
    "            JK = chr(J)\n",
    "        else:\n",
    "            JK = chr(J)\n",
    "        if J < 33:\n",
    "            Q = 33 - J\n",
    "            Q = randrange(Q,127)\n",
    "            J = Q + J\n",
    "            JK = chr(J)\n",
    "        else:\n",
    "            JK = chr(J) \n",
    "        everything.append(JK)\n",
    "    A = len(everything) \n",
    "    for i in range(0,A):\n",
    "        print(everything[i],end=\"\")\n"
   ]
  },
  {
   "cell_type": "code",
   "execution_count": 90,
   "metadata": {},
   "outputs": [
    {
     "name": "stdout",
     "output_type": "stream",
     "text": [
      "BJXaAXanTdGagVWWPV"
     ]
    }
   ],
   "source": [
    "cipher(\"This is everything\",\"man\")"
   ]
  },
  {
   "cell_type": "code",
   "execution_count": 91,
   "metadata": {},
   "outputs": [
    {
     "name": "stdout",
     "output_type": "stream",
     "text": [
      "]s~"
     ]
    }
   ],
   "source": [
    "cipher(\"mAN\",123)"
   ]
  },
  {
   "cell_type": "code",
   "execution_count": 92,
   "metadata": {},
   "outputs": [
    {
     "name": "stdout",
     "output_type": "stream",
     "text": [
      "~~\""
     ]
    }
   ],
   "source": [
    "cipher(\"Man\",123)"
   ]
  },
  {
   "cell_type": "code",
   "execution_count": 93,
   "metadata": {},
   "outputs": [
    {
     "name": "stdout",
     "output_type": "stream",
     "text": [
      "~s\""
     ]
    }
   ],
   "source": [
    "cipher(\"MAn\",123)"
   ]
  },
  {
   "cell_type": "code",
   "execution_count": 94,
   "metadata": {},
   "outputs": [
    {
     "name": "stdout",
     "output_type": "stream",
     "text": [
      "0YaZOU,O\\;jbXGRXOe_"
     ]
    }
   ],
   "source": [
    "cipher(\"Ginger is wonderful\",\"horrible\")"
   ]
  },
  {
   "cell_type": "code",
   "execution_count": 95,
   "metadata": {},
   "outputs": [
    {
     "name": "stdout",
     "output_type": "stream",
     "text": [
      "[Gi8[<-Uq8JZcFd+"
     ]
    }
   ],
   "source": [
    "cipher(\"Betty is the dog\",\"Cat\")"
   ]
  },
  {
   "cell_type": "code",
   "execution_count": 96,
   "metadata": {},
   "outputs": [
    {
     "name": "stdout",
     "output_type": "stream",
     "text": [
      ",_\\TZYSJhYcZIORFLs`JZc_S"
     ]
    }
   ],
   "source": [
    "cipher(\"Dolorice is a bad person\",\"good\")"
   ]
  },
  {
   "cell_type": "code",
   "execution_count": 97,
   "metadata": {},
   "outputs": [
    {
     "name": "stdout",
     "output_type": "stream",
     "text": [
      "BJXa:XawTdGagVWWPV"
     ]
    }
   ],
   "source": [
    "cipher(\"This is everything\",\"man\")"
   ]
  },
  {
   "cell_type": "code",
   "execution_count": null,
   "metadata": {},
   "outputs": [],
   "source": []
  }
 ],
 "metadata": {
  "kernelspec": {
   "display_name": "Python 3",
   "language": "python",
   "name": "python3"
  },
  "language_info": {
   "codemirror_mode": {
    "name": "ipython",
    "version": 3
   },
   "file_extension": ".py",
   "mimetype": "text/x-python",
   "name": "python",
   "nbconvert_exporter": "python",
   "pygments_lexer": "ipython3",
   "version": "3.6.6"
  }
 },
 "nbformat": 4,
 "nbformat_minor": 2
}
